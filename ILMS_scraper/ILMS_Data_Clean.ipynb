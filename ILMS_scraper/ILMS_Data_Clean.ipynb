{
 "cells": [
  {
   "cell_type": "code",
   "execution_count": null,
   "metadata": {},
   "outputs": [],
   "source": []
  },
  {
   "cell_type": "code",
   "execution_count": 14,
   "metadata": {
    "ExecuteTime": {
     "end_time": "2020-12-10T23:19:47.280577Z",
     "start_time": "2020-12-10T23:19:46.669590Z"
    }
   },
   "outputs": [],
   "source": [
    "import pandas as pd"
   ]
  },
  {
   "cell_type": "code",
   "execution_count": 15,
   "metadata": {
    "ExecuteTime": {
     "end_time": "2020-12-10T23:19:47.526629Z",
     "start_time": "2020-12-10T23:19:47.282139Z"
    }
   },
   "outputs": [],
   "source": [
    "ae_df = pd.read_csv('data/pls_fy18_outlet_pud18i.csv', \n",
    "usecols=['LIBID', 'LIBNAME', 'ADDRESS', 'CITY', 'STABR', 'ZIP', 'PHONE'],\n",
    "encoding = \"ISO-8859-1\")"
   ]
  },
  {
   "cell_type": "code",
   "execution_count": 16,
   "metadata": {
    "ExecuteTime": {
     "end_time": "2020-12-10T23:19:47.668534Z",
     "start_time": "2020-12-10T23:19:47.528278Z"
    }
   },
   "outputs": [],
   "source": [
    "outlet_df = pd.read_csv('data/pls_fy18_outlet_pud18i.csv', encoding='ISO-8859-1')"
   ]
  },
  {
   "cell_type": "code",
   "execution_count": 17,
   "metadata": {
    "ExecuteTime": {
     "end_time": "2020-12-10T23:19:47.713020Z",
     "start_time": "2020-12-10T23:19:47.671041Z"
    }
   },
   "outputs": [
    {
     "output_type": "execute_result",
     "data": {
      "text/plain": [
       "  STABR       LIBID                           LIBNAME  \\\n",
       "0    AK  AK0001-002       ANCHOR POINT PUBLIC LIBRARY   \n",
       "1    AK  AK0002-007       CHUGIAK-EAGLE RIVER LIBRARY   \n",
       "2    AK  AK0002-008                   MULDOON LIBRARY   \n",
       "3    AK  AK0002-010  SCOTT AND WESLEY GERRISH LIBRARY   \n",
       "4    AK  AK0002-011             Z. J. LOUSSAC LIBRARY   \n",
       "\n",
       "                         ADDRESS          CITY    ZIP       PHONE  \n",
       "0          34020 NORTH FORK ROAD  ANCHOR POINT  99556  9072355692  \n",
       "1  12001 BUSINESS BOULEVARD #176   EAGLE RIVER  99577  9073431530  \n",
       "2   1251 MULDOON ROAD, SUITE 158     ANCHORAGE  99504  9073434223  \n",
       "3               250 EGLOFF DRIVE      GIRDWOOD  99587  9073434024  \n",
       "4             3600 DENALI STREET     ANCHORAGE  99503  9073432892  "
      ],
      "text/html": "<div>\n<style scoped>\n    .dataframe tbody tr th:only-of-type {\n        vertical-align: middle;\n    }\n\n    .dataframe tbody tr th {\n        vertical-align: top;\n    }\n\n    .dataframe thead th {\n        text-align: right;\n    }\n</style>\n<table border=\"1\" class=\"dataframe\">\n  <thead>\n    <tr style=\"text-align: right;\">\n      <th></th>\n      <th>STABR</th>\n      <th>LIBID</th>\n      <th>LIBNAME</th>\n      <th>ADDRESS</th>\n      <th>CITY</th>\n      <th>ZIP</th>\n      <th>PHONE</th>\n    </tr>\n  </thead>\n  <tbody>\n    <tr>\n      <th>0</th>\n      <td>AK</td>\n      <td>AK0001-002</td>\n      <td>ANCHOR POINT PUBLIC LIBRARY</td>\n      <td>34020 NORTH FORK ROAD</td>\n      <td>ANCHOR POINT</td>\n      <td>99556</td>\n      <td>9072355692</td>\n    </tr>\n    <tr>\n      <th>1</th>\n      <td>AK</td>\n      <td>AK0002-007</td>\n      <td>CHUGIAK-EAGLE RIVER LIBRARY</td>\n      <td>12001 BUSINESS BOULEVARD #176</td>\n      <td>EAGLE RIVER</td>\n      <td>99577</td>\n      <td>9073431530</td>\n    </tr>\n    <tr>\n      <th>2</th>\n      <td>AK</td>\n      <td>AK0002-008</td>\n      <td>MULDOON LIBRARY</td>\n      <td>1251 MULDOON ROAD, SUITE 158</td>\n      <td>ANCHORAGE</td>\n      <td>99504</td>\n      <td>9073434223</td>\n    </tr>\n    <tr>\n      <th>3</th>\n      <td>AK</td>\n      <td>AK0002-010</td>\n      <td>SCOTT AND WESLEY GERRISH LIBRARY</td>\n      <td>250 EGLOFF DRIVE</td>\n      <td>GIRDWOOD</td>\n      <td>99587</td>\n      <td>9073434024</td>\n    </tr>\n    <tr>\n      <th>4</th>\n      <td>AK</td>\n      <td>AK0002-011</td>\n      <td>Z. J. LOUSSAC LIBRARY</td>\n      <td>3600 DENALI STREET</td>\n      <td>ANCHORAGE</td>\n      <td>99503</td>\n      <td>9073432892</td>\n    </tr>\n  </tbody>\n</table>\n</div>"
     },
     "metadata": {},
     "execution_count": 17
    }
   ],
   "source": [
    "ae_df.head()"
   ]
  },
  {
   "cell_type": "code",
   "execution_count": 18,
   "metadata": {
    "ExecuteTime": {
     "end_time": "2020-12-10T23:19:47.726537Z",
     "start_time": "2020-12-10T23:19:47.715872Z"
    }
   },
   "outputs": [
    {
     "output_type": "execute_result",
     "data": {
      "text/plain": [
       "['STABR', 'LIBID', 'LIBNAME', 'ADDRESS', 'CITY', 'ZIP', 'PHONE']"
      ]
     },
     "metadata": {},
     "execution_count": 18
    }
   ],
   "source": [
    "wanted_columns = ae_df[['LIBNAME', 'ADDRESS', 'CITY', 'STABR', 'ZIP', 'PHONE']]\n",
    "\n",
    "ae_columns = list(ae_df.columns)\n",
    "\n",
    "ae_columns"
   ]
  },
  {
   "cell_type": "code",
   "execution_count": 19,
   "metadata": {
    "ExecuteTime": {
     "end_time": "2020-12-10T23:19:47.752248Z",
     "start_time": "2020-12-10T23:19:47.729591Z"
    }
   },
   "outputs": [
    {
     "output_type": "execute_result",
     "data": {
      "text/plain": [
       "                                LIBNAME                        ADDRESS  \\\n",
       "0           ANCHOR POINT PUBLIC LIBRARY          34020 NORTH FORK ROAD   \n",
       "1           CHUGIAK-EAGLE RIVER LIBRARY  12001 BUSINESS BOULEVARD #176   \n",
       "2                       MULDOON LIBRARY   1251 MULDOON ROAD, SUITE 158   \n",
       "3      SCOTT AND WESLEY GERRISH LIBRARY               250 EGLOFF DRIVE   \n",
       "4                 Z. J. LOUSSAC LIBRARY             3600 DENALI STREET   \n",
       "...                                 ...                            ...   \n",
       "17473   TEN SLEEP BRANCH/SCHOOL LIBRARY                 200 N. FIR ST.   \n",
       "17474      WESTON COUNTY LIBRARY SYSTEM                23 WEST MAIN ST   \n",
       "17475              UPTON BRANCH LIBRARY                     722 4TH ST   \n",
       "17476          HANKINSON PUBLIC LIBRARY              319 MAIN AVENUE S   \n",
       "17477   NORTHWOOD SCHOOL & CITY LIBRARY                420 TROJAN ROAD   \n",
       "\n",
       "               CITY STABR    ZIP       PHONE  \n",
       "0      ANCHOR POINT    AK  99556  9072355692  \n",
       "1       EAGLE RIVER    AK  99577  9073431530  \n",
       "2         ANCHORAGE    AK  99504  9073434223  \n",
       "3          GIRDWOOD    AK  99587  9073434024  \n",
       "4         ANCHORAGE    AK  99503  9073432892  \n",
       "...             ...   ...    ...         ...  \n",
       "17473     TEN SLEEP    WY  82442  3073662348  \n",
       "17474     NEWCASTLE    WY  82701  3077462206  \n",
       "17475         UPTON    WY  82730  3074682324  \n",
       "17476     HANKINSON    ND  58041          -3  \n",
       "17477     NORTHWOOD    ND  58267          -3  \n",
       "\n",
       "[17478 rows x 6 columns]"
      ],
      "text/html": "<div>\n<style scoped>\n    .dataframe tbody tr th:only-of-type {\n        vertical-align: middle;\n    }\n\n    .dataframe tbody tr th {\n        vertical-align: top;\n    }\n\n    .dataframe thead th {\n        text-align: right;\n    }\n</style>\n<table border=\"1\" class=\"dataframe\">\n  <thead>\n    <tr style=\"text-align: right;\">\n      <th></th>\n      <th>LIBNAME</th>\n      <th>ADDRESS</th>\n      <th>CITY</th>\n      <th>STABR</th>\n      <th>ZIP</th>\n      <th>PHONE</th>\n    </tr>\n  </thead>\n  <tbody>\n    <tr>\n      <th>0</th>\n      <td>ANCHOR POINT PUBLIC LIBRARY</td>\n      <td>34020 NORTH FORK ROAD</td>\n      <td>ANCHOR POINT</td>\n      <td>AK</td>\n      <td>99556</td>\n      <td>9072355692</td>\n    </tr>\n    <tr>\n      <th>1</th>\n      <td>CHUGIAK-EAGLE RIVER LIBRARY</td>\n      <td>12001 BUSINESS BOULEVARD #176</td>\n      <td>EAGLE RIVER</td>\n      <td>AK</td>\n      <td>99577</td>\n      <td>9073431530</td>\n    </tr>\n    <tr>\n      <th>2</th>\n      <td>MULDOON LIBRARY</td>\n      <td>1251 MULDOON ROAD, SUITE 158</td>\n      <td>ANCHORAGE</td>\n      <td>AK</td>\n      <td>99504</td>\n      <td>9073434223</td>\n    </tr>\n    <tr>\n      <th>3</th>\n      <td>SCOTT AND WESLEY GERRISH LIBRARY</td>\n      <td>250 EGLOFF DRIVE</td>\n      <td>GIRDWOOD</td>\n      <td>AK</td>\n      <td>99587</td>\n      <td>9073434024</td>\n    </tr>\n    <tr>\n      <th>4</th>\n      <td>Z. J. LOUSSAC LIBRARY</td>\n      <td>3600 DENALI STREET</td>\n      <td>ANCHORAGE</td>\n      <td>AK</td>\n      <td>99503</td>\n      <td>9073432892</td>\n    </tr>\n    <tr>\n      <th>...</th>\n      <td>...</td>\n      <td>...</td>\n      <td>...</td>\n      <td>...</td>\n      <td>...</td>\n      <td>...</td>\n    </tr>\n    <tr>\n      <th>17473</th>\n      <td>TEN SLEEP BRANCH/SCHOOL LIBRARY</td>\n      <td>200 N. FIR ST.</td>\n      <td>TEN SLEEP</td>\n      <td>WY</td>\n      <td>82442</td>\n      <td>3073662348</td>\n    </tr>\n    <tr>\n      <th>17474</th>\n      <td>WESTON COUNTY LIBRARY SYSTEM</td>\n      <td>23 WEST MAIN ST</td>\n      <td>NEWCASTLE</td>\n      <td>WY</td>\n      <td>82701</td>\n      <td>3077462206</td>\n    </tr>\n    <tr>\n      <th>17475</th>\n      <td>UPTON BRANCH LIBRARY</td>\n      <td>722 4TH ST</td>\n      <td>UPTON</td>\n      <td>WY</td>\n      <td>82730</td>\n      <td>3074682324</td>\n    </tr>\n    <tr>\n      <th>17476</th>\n      <td>HANKINSON PUBLIC LIBRARY</td>\n      <td>319 MAIN AVENUE S</td>\n      <td>HANKINSON</td>\n      <td>ND</td>\n      <td>58041</td>\n      <td>-3</td>\n    </tr>\n    <tr>\n      <th>17477</th>\n      <td>NORTHWOOD SCHOOL &amp; CITY LIBRARY</td>\n      <td>420 TROJAN ROAD</td>\n      <td>NORTHWOOD</td>\n      <td>ND</td>\n      <td>58267</td>\n      <td>-3</td>\n    </tr>\n  </tbody>\n</table>\n<p>17478 rows × 6 columns</p>\n</div>"
     },
     "metadata": {},
     "execution_count": 19
    }
   ],
   "source": [
    "ae_small_df = wanted_columns.copy()\n",
    "\n",
    "ae_small_df"
   ]
  },
  {
   "cell_type": "code",
   "execution_count": null,
   "metadata": {},
   "outputs": [],
   "source": []
  },
  {
   "cell_type": "code",
   "execution_count": 20,
   "metadata": {
    "ExecuteTime": {
     "end_time": "2020-12-10T23:19:47.794718Z",
     "start_time": "2020-12-10T23:19:47.754929Z"
    }
   },
   "outputs": [
    {
     "output_type": "execute_result",
     "data": {
      "text/plain": [
       "  STABR FSCSKEY  FSCS_SEQ C_FSCS       LIBID  \\\n",
       "0    AK  AK0001         2      Y  AK0001-002   \n",
       "1    AK  AK0002         7      Y  AK0002-007   \n",
       "2    AK  AK0002         8      Y  AK0002-008   \n",
       "3    AK  AK0002        10      Y  AK0002-010   \n",
       "4    AK  AK0002        11      Y  AK0002-011   \n",
       "\n",
       "                            LIBNAME                        ADDRESS  \\\n",
       "0       ANCHOR POINT PUBLIC LIBRARY          34020 NORTH FORK ROAD   \n",
       "1       CHUGIAK-EAGLE RIVER LIBRARY  12001 BUSINESS BOULEVARD #176   \n",
       "2                   MULDOON LIBRARY   1251 MULDOON ROAD, SUITE 158   \n",
       "3  SCOTT AND WESLEY GERRISH LIBRARY               250 EGLOFF DRIVE   \n",
       "4             Z. J. LOUSSAC LIBRARY             3600 DENALI STREET   \n",
       "\n",
       "           CITY    ZIP  ZIP4  ... GNISPLAC  CNTYPOP LOCALE  REAPLOCALE  \\\n",
       "0  ANCHOR POINT  99556     M  ...  0203110    58533     43           7   \n",
       "1   EAGLE RIVER  99577  7743  ...  0203000   291538     31           1   \n",
       "2     ANCHORAGE  99504  2012  ...  0203000   291538     11           1   \n",
       "3      GIRDWOOD  99587     M  ...  0203000   291538     42           1   \n",
       "4     ANCHORAGE  99503  6055  ...  0203000   291538     11           1   \n",
       "\n",
       "  CENTRACT  CENBLOCK  CDCODE   CBSA  MICROF  GEOMATCH  \n",
       "0     8.00      3007    0200     -4       N         A  \n",
       "1     2.01      2021    0200  11260       0         A  \n",
       "2     7.03      5012    0200  11260       0         A  \n",
       "3    29.00      2050    0200  11260       0         A  \n",
       "4    19.00      3002    0200  11260       0         A  \n",
       "\n",
       "[5 rows x 37 columns]"
      ],
      "text/html": "<div>\n<style scoped>\n    .dataframe tbody tr th:only-of-type {\n        vertical-align: middle;\n    }\n\n    .dataframe tbody tr th {\n        vertical-align: top;\n    }\n\n    .dataframe thead th {\n        text-align: right;\n    }\n</style>\n<table border=\"1\" class=\"dataframe\">\n  <thead>\n    <tr style=\"text-align: right;\">\n      <th></th>\n      <th>STABR</th>\n      <th>FSCSKEY</th>\n      <th>FSCS_SEQ</th>\n      <th>C_FSCS</th>\n      <th>LIBID</th>\n      <th>LIBNAME</th>\n      <th>ADDRESS</th>\n      <th>CITY</th>\n      <th>ZIP</th>\n      <th>ZIP4</th>\n      <th>...</th>\n      <th>GNISPLAC</th>\n      <th>CNTYPOP</th>\n      <th>LOCALE</th>\n      <th>REAPLOCALE</th>\n      <th>CENTRACT</th>\n      <th>CENBLOCK</th>\n      <th>CDCODE</th>\n      <th>CBSA</th>\n      <th>MICROF</th>\n      <th>GEOMATCH</th>\n    </tr>\n  </thead>\n  <tbody>\n    <tr>\n      <th>0</th>\n      <td>AK</td>\n      <td>AK0001</td>\n      <td>2</td>\n      <td>Y</td>\n      <td>AK0001-002</td>\n      <td>ANCHOR POINT PUBLIC LIBRARY</td>\n      <td>34020 NORTH FORK ROAD</td>\n      <td>ANCHOR POINT</td>\n      <td>99556</td>\n      <td>M</td>\n      <td>...</td>\n      <td>0203110</td>\n      <td>58533</td>\n      <td>43</td>\n      <td>7</td>\n      <td>8.00</td>\n      <td>3007</td>\n      <td>0200</td>\n      <td>-4</td>\n      <td>N</td>\n      <td>A</td>\n    </tr>\n    <tr>\n      <th>1</th>\n      <td>AK</td>\n      <td>AK0002</td>\n      <td>7</td>\n      <td>Y</td>\n      <td>AK0002-007</td>\n      <td>CHUGIAK-EAGLE RIVER LIBRARY</td>\n      <td>12001 BUSINESS BOULEVARD #176</td>\n      <td>EAGLE RIVER</td>\n      <td>99577</td>\n      <td>7743</td>\n      <td>...</td>\n      <td>0203000</td>\n      <td>291538</td>\n      <td>31</td>\n      <td>1</td>\n      <td>2.01</td>\n      <td>2021</td>\n      <td>0200</td>\n      <td>11260</td>\n      <td>0</td>\n      <td>A</td>\n    </tr>\n    <tr>\n      <th>2</th>\n      <td>AK</td>\n      <td>AK0002</td>\n      <td>8</td>\n      <td>Y</td>\n      <td>AK0002-008</td>\n      <td>MULDOON LIBRARY</td>\n      <td>1251 MULDOON ROAD, SUITE 158</td>\n      <td>ANCHORAGE</td>\n      <td>99504</td>\n      <td>2012</td>\n      <td>...</td>\n      <td>0203000</td>\n      <td>291538</td>\n      <td>11</td>\n      <td>1</td>\n      <td>7.03</td>\n      <td>5012</td>\n      <td>0200</td>\n      <td>11260</td>\n      <td>0</td>\n      <td>A</td>\n    </tr>\n    <tr>\n      <th>3</th>\n      <td>AK</td>\n      <td>AK0002</td>\n      <td>10</td>\n      <td>Y</td>\n      <td>AK0002-010</td>\n      <td>SCOTT AND WESLEY GERRISH LIBRARY</td>\n      <td>250 EGLOFF DRIVE</td>\n      <td>GIRDWOOD</td>\n      <td>99587</td>\n      <td>M</td>\n      <td>...</td>\n      <td>0203000</td>\n      <td>291538</td>\n      <td>42</td>\n      <td>1</td>\n      <td>29.00</td>\n      <td>2050</td>\n      <td>0200</td>\n      <td>11260</td>\n      <td>0</td>\n      <td>A</td>\n    </tr>\n    <tr>\n      <th>4</th>\n      <td>AK</td>\n      <td>AK0002</td>\n      <td>11</td>\n      <td>Y</td>\n      <td>AK0002-011</td>\n      <td>Z. J. LOUSSAC LIBRARY</td>\n      <td>3600 DENALI STREET</td>\n      <td>ANCHORAGE</td>\n      <td>99503</td>\n      <td>6055</td>\n      <td>...</td>\n      <td>0203000</td>\n      <td>291538</td>\n      <td>11</td>\n      <td>1</td>\n      <td>19.00</td>\n      <td>3002</td>\n      <td>0200</td>\n      <td>11260</td>\n      <td>0</td>\n      <td>A</td>\n    </tr>\n  </tbody>\n</table>\n<p>5 rows × 37 columns</p>\n</div>"
     },
     "metadata": {},
     "execution_count": 20
    }
   ],
   "source": [
    "outlet_df.head()"
   ]
  },
  {
   "cell_type": "code",
   "execution_count": 21,
   "metadata": {
    "ExecuteTime": {
     "end_time": "2020-12-10T23:19:47.803458Z",
     "start_time": "2020-12-10T23:19:47.798675Z"
    }
   },
   "outputs": [
    {
     "output_type": "execute_result",
     "data": {
      "text/plain": [
       "['STABR',\n",
       " 'FSCSKEY',\n",
       " 'FSCS_SEQ',\n",
       " 'C_FSCS',\n",
       " 'LIBID',\n",
       " 'LIBNAME',\n",
       " 'ADDRESS',\n",
       " 'CITY',\n",
       " 'ZIP',\n",
       " 'ZIP4',\n",
       " 'CNTY',\n",
       " 'PHONE',\n",
       " 'C_OUT_TY',\n",
       " 'SQ_FEET',\n",
       " 'F_SQ_FT',\n",
       " 'L_NUM_BM',\n",
       " 'HOURS',\n",
       " 'WKS_OPEN',\n",
       " 'YR_SUB',\n",
       " 'OBEREG',\n",
       " 'STATSTRU',\n",
       " 'STATNAME',\n",
       " 'STATADDR',\n",
       " 'LONGITUD',\n",
       " 'LATITUDE',\n",
       " 'INCITSST',\n",
       " 'INCITSCO',\n",
       " 'GNISPLAC',\n",
       " 'CNTYPOP',\n",
       " 'LOCALE',\n",
       " 'REAPLOCALE',\n",
       " 'CENTRACT',\n",
       " 'CENBLOCK',\n",
       " 'CDCODE',\n",
       " 'CBSA',\n",
       " 'MICROF',\n",
       " 'GEOMATCH']"
      ]
     },
     "metadata": {},
     "execution_count": 21
    }
   ],
   "source": [
    "outlet_columns = list(outlet_df.keys())\n",
    "\n",
    "outlet_columns"
   ]
  },
  {
   "cell_type": "code",
   "execution_count": 22,
   "metadata": {
    "ExecuteTime": {
     "end_time": "2020-12-10T23:19:47.827497Z",
     "start_time": "2020-12-10T23:19:47.806212Z"
    }
   },
   "outputs": [
    {
     "output_type": "execute_result",
     "data": {
      "text/plain": [
       "                                LIBNAME                        ADDRESS  \\\n",
       "0           ANCHOR POINT PUBLIC LIBRARY          34020 NORTH FORK ROAD   \n",
       "1           CHUGIAK-EAGLE RIVER LIBRARY  12001 BUSINESS BOULEVARD #176   \n",
       "2                       MULDOON LIBRARY   1251 MULDOON ROAD, SUITE 158   \n",
       "3      SCOTT AND WESLEY GERRISH LIBRARY               250 EGLOFF DRIVE   \n",
       "4                 Z. J. LOUSSAC LIBRARY             3600 DENALI STREET   \n",
       "...                                 ...                            ...   \n",
       "17473   TEN SLEEP BRANCH/SCHOOL LIBRARY                 200 N. FIR ST.   \n",
       "17474      WESTON COUNTY LIBRARY SYSTEM                23 WEST MAIN ST   \n",
       "17475              UPTON BRANCH LIBRARY                     722 4TH ST   \n",
       "17476          HANKINSON PUBLIC LIBRARY              319 MAIN AVENUE S   \n",
       "17477   NORTHWOOD SCHOOL & CITY LIBRARY                420 TROJAN ROAD   \n",
       "\n",
       "               CITY STABR    ZIP       PHONE  \n",
       "0      ANCHOR POINT    AK  99556  9072355692  \n",
       "1       EAGLE RIVER    AK  99577  9073431530  \n",
       "2         ANCHORAGE    AK  99504  9073434223  \n",
       "3          GIRDWOOD    AK  99587  9073434024  \n",
       "4         ANCHORAGE    AK  99503  9073432892  \n",
       "...             ...   ...    ...         ...  \n",
       "17473     TEN SLEEP    WY  82442  3073662348  \n",
       "17474     NEWCASTLE    WY  82701  3077462206  \n",
       "17475         UPTON    WY  82730  3074682324  \n",
       "17476     HANKINSON    ND  58041          -3  \n",
       "17477     NORTHWOOD    ND  58267          -3  \n",
       "\n",
       "[17478 rows x 6 columns]"
      ],
      "text/html": "<div>\n<style scoped>\n    .dataframe tbody tr th:only-of-type {\n        vertical-align: middle;\n    }\n\n    .dataframe tbody tr th {\n        vertical-align: top;\n    }\n\n    .dataframe thead th {\n        text-align: right;\n    }\n</style>\n<table border=\"1\" class=\"dataframe\">\n  <thead>\n    <tr style=\"text-align: right;\">\n      <th></th>\n      <th>LIBNAME</th>\n      <th>ADDRESS</th>\n      <th>CITY</th>\n      <th>STABR</th>\n      <th>ZIP</th>\n      <th>PHONE</th>\n    </tr>\n  </thead>\n  <tbody>\n    <tr>\n      <th>0</th>\n      <td>ANCHOR POINT PUBLIC LIBRARY</td>\n      <td>34020 NORTH FORK ROAD</td>\n      <td>ANCHOR POINT</td>\n      <td>AK</td>\n      <td>99556</td>\n      <td>9072355692</td>\n    </tr>\n    <tr>\n      <th>1</th>\n      <td>CHUGIAK-EAGLE RIVER LIBRARY</td>\n      <td>12001 BUSINESS BOULEVARD #176</td>\n      <td>EAGLE RIVER</td>\n      <td>AK</td>\n      <td>99577</td>\n      <td>9073431530</td>\n    </tr>\n    <tr>\n      <th>2</th>\n      <td>MULDOON LIBRARY</td>\n      <td>1251 MULDOON ROAD, SUITE 158</td>\n      <td>ANCHORAGE</td>\n      <td>AK</td>\n      <td>99504</td>\n      <td>9073434223</td>\n    </tr>\n    <tr>\n      <th>3</th>\n      <td>SCOTT AND WESLEY GERRISH LIBRARY</td>\n      <td>250 EGLOFF DRIVE</td>\n      <td>GIRDWOOD</td>\n      <td>AK</td>\n      <td>99587</td>\n      <td>9073434024</td>\n    </tr>\n    <tr>\n      <th>4</th>\n      <td>Z. J. LOUSSAC LIBRARY</td>\n      <td>3600 DENALI STREET</td>\n      <td>ANCHORAGE</td>\n      <td>AK</td>\n      <td>99503</td>\n      <td>9073432892</td>\n    </tr>\n    <tr>\n      <th>...</th>\n      <td>...</td>\n      <td>...</td>\n      <td>...</td>\n      <td>...</td>\n      <td>...</td>\n      <td>...</td>\n    </tr>\n    <tr>\n      <th>17473</th>\n      <td>TEN SLEEP BRANCH/SCHOOL LIBRARY</td>\n      <td>200 N. FIR ST.</td>\n      <td>TEN SLEEP</td>\n      <td>WY</td>\n      <td>82442</td>\n      <td>3073662348</td>\n    </tr>\n    <tr>\n      <th>17474</th>\n      <td>WESTON COUNTY LIBRARY SYSTEM</td>\n      <td>23 WEST MAIN ST</td>\n      <td>NEWCASTLE</td>\n      <td>WY</td>\n      <td>82701</td>\n      <td>3077462206</td>\n    </tr>\n    <tr>\n      <th>17475</th>\n      <td>UPTON BRANCH LIBRARY</td>\n      <td>722 4TH ST</td>\n      <td>UPTON</td>\n      <td>WY</td>\n      <td>82730</td>\n      <td>3074682324</td>\n    </tr>\n    <tr>\n      <th>17476</th>\n      <td>HANKINSON PUBLIC LIBRARY</td>\n      <td>319 MAIN AVENUE S</td>\n      <td>HANKINSON</td>\n      <td>ND</td>\n      <td>58041</td>\n      <td>-3</td>\n    </tr>\n    <tr>\n      <th>17477</th>\n      <td>NORTHWOOD SCHOOL &amp; CITY LIBRARY</td>\n      <td>420 TROJAN ROAD</td>\n      <td>NORTHWOOD</td>\n      <td>ND</td>\n      <td>58267</td>\n      <td>-3</td>\n    </tr>\n  </tbody>\n</table>\n<p>17478 rows × 6 columns</p>\n</div>"
     },
     "metadata": {},
     "execution_count": 22
    }
   ],
   "source": [
    "wanted_columns = outlet_df[['LIBNAME', 'ADDRESS', 'CITY', 'STABR', 'ZIP', 'PHONE']]\n",
    "\n",
    "outlet_small_df = wanted_columns.copy()\n",
    "\n",
    "outlet_small_df"
   ]
  },
  {
   "cell_type": "code",
   "execution_count": 23,
   "metadata": {
    "ExecuteTime": {
     "end_time": "2020-12-10T23:19:47.846476Z",
     "start_time": "2020-12-10T23:19:47.830234Z"
    }
   },
   "outputs": [
    {
     "output_type": "execute_result",
     "data": {
      "text/plain": [
       "                            LIBNAME                        ADDRESS  \\\n",
       "0       ANCHOR POINT PUBLIC LIBRARY          34020 NORTH FORK ROAD   \n",
       "1       CHUGIAK-EAGLE RIVER LIBRARY  12001 BUSINESS BOULEVARD #176   \n",
       "2                   MULDOON LIBRARY   1251 MULDOON ROAD, SUITE 158   \n",
       "3  SCOTT AND WESLEY GERRISH LIBRARY               250 EGLOFF DRIVE   \n",
       "4             Z. J. LOUSSAC LIBRARY             3600 DENALI STREET   \n",
       "\n",
       "           CITY STABR    ZIP       PHONE  \n",
       "0  ANCHOR POINT    AK  99556  9072355692  \n",
       "1   EAGLE RIVER    AK  99577  9073431530  \n",
       "2     ANCHORAGE    AK  99504  9073434223  \n",
       "3      GIRDWOOD    AK  99587  9073434024  \n",
       "4     ANCHORAGE    AK  99503  9073432892  "
      ],
      "text/html": "<div>\n<style scoped>\n    .dataframe tbody tr th:only-of-type {\n        vertical-align: middle;\n    }\n\n    .dataframe tbody tr th {\n        vertical-align: top;\n    }\n\n    .dataframe thead th {\n        text-align: right;\n    }\n</style>\n<table border=\"1\" class=\"dataframe\">\n  <thead>\n    <tr style=\"text-align: right;\">\n      <th></th>\n      <th>LIBNAME</th>\n      <th>ADDRESS</th>\n      <th>CITY</th>\n      <th>STABR</th>\n      <th>ZIP</th>\n      <th>PHONE</th>\n    </tr>\n  </thead>\n  <tbody>\n    <tr>\n      <th>0</th>\n      <td>ANCHOR POINT PUBLIC LIBRARY</td>\n      <td>34020 NORTH FORK ROAD</td>\n      <td>ANCHOR POINT</td>\n      <td>AK</td>\n      <td>99556</td>\n      <td>9072355692</td>\n    </tr>\n    <tr>\n      <th>1</th>\n      <td>CHUGIAK-EAGLE RIVER LIBRARY</td>\n      <td>12001 BUSINESS BOULEVARD #176</td>\n      <td>EAGLE RIVER</td>\n      <td>AK</td>\n      <td>99577</td>\n      <td>9073431530</td>\n    </tr>\n    <tr>\n      <th>2</th>\n      <td>MULDOON LIBRARY</td>\n      <td>1251 MULDOON ROAD, SUITE 158</td>\n      <td>ANCHORAGE</td>\n      <td>AK</td>\n      <td>99504</td>\n      <td>9073434223</td>\n    </tr>\n    <tr>\n      <th>3</th>\n      <td>SCOTT AND WESLEY GERRISH LIBRARY</td>\n      <td>250 EGLOFF DRIVE</td>\n      <td>GIRDWOOD</td>\n      <td>AK</td>\n      <td>99587</td>\n      <td>9073434024</td>\n    </tr>\n    <tr>\n      <th>4</th>\n      <td>Z. J. LOUSSAC LIBRARY</td>\n      <td>3600 DENALI STREET</td>\n      <td>ANCHORAGE</td>\n      <td>AK</td>\n      <td>99503</td>\n      <td>9073432892</td>\n    </tr>\n  </tbody>\n</table>\n</div>"
     },
     "metadata": {},
     "execution_count": 23
    }
   ],
   "source": [
    "whole_ilms_df = ae_small_df.append(outlet_small_df)\n",
    "\n",
    "whole_ilms_df.head()"
   ]
  },
  {
   "cell_type": "code",
   "execution_count": 24,
   "metadata": {
    "ExecuteTime": {
     "end_time": "2020-12-10T23:19:47.866832Z",
     "start_time": "2020-12-10T23:19:47.849063Z"
    }
   },
   "outputs": [
    {
     "output_type": "execute_result",
     "data": {
      "text/plain": [
       "                            libname                        address  \\\n",
       "0       ANCHOR POINT PUBLIC LIBRARY          34020 NORTH FORK ROAD   \n",
       "1       CHUGIAK-EAGLE RIVER LIBRARY  12001 BUSINESS BOULEVARD #176   \n",
       "2                   MULDOON LIBRARY   1251 MULDOON ROAD, SUITE 158   \n",
       "3  SCOTT AND WESLEY GERRISH LIBRARY               250 EGLOFF DRIVE   \n",
       "4             Z. J. LOUSSAC LIBRARY             3600 DENALI STREET   \n",
       "\n",
       "           city stabr    zip       phone  \n",
       "0  ANCHOR POINT    AK  99556  9072355692  \n",
       "1   EAGLE RIVER    AK  99577  9073431530  \n",
       "2     ANCHORAGE    AK  99504  9073434223  \n",
       "3      GIRDWOOD    AK  99587  9073434024  \n",
       "4     ANCHORAGE    AK  99503  9073432892  "
      ],
      "text/html": "<div>\n<style scoped>\n    .dataframe tbody tr th:only-of-type {\n        vertical-align: middle;\n    }\n\n    .dataframe tbody tr th {\n        vertical-align: top;\n    }\n\n    .dataframe thead th {\n        text-align: right;\n    }\n</style>\n<table border=\"1\" class=\"dataframe\">\n  <thead>\n    <tr style=\"text-align: right;\">\n      <th></th>\n      <th>libname</th>\n      <th>address</th>\n      <th>city</th>\n      <th>stabr</th>\n      <th>zip</th>\n      <th>phone</th>\n    </tr>\n  </thead>\n  <tbody>\n    <tr>\n      <th>0</th>\n      <td>ANCHOR POINT PUBLIC LIBRARY</td>\n      <td>34020 NORTH FORK ROAD</td>\n      <td>ANCHOR POINT</td>\n      <td>AK</td>\n      <td>99556</td>\n      <td>9072355692</td>\n    </tr>\n    <tr>\n      <th>1</th>\n      <td>CHUGIAK-EAGLE RIVER LIBRARY</td>\n      <td>12001 BUSINESS BOULEVARD #176</td>\n      <td>EAGLE RIVER</td>\n      <td>AK</td>\n      <td>99577</td>\n      <td>9073431530</td>\n    </tr>\n    <tr>\n      <th>2</th>\n      <td>MULDOON LIBRARY</td>\n      <td>1251 MULDOON ROAD, SUITE 158</td>\n      <td>ANCHORAGE</td>\n      <td>AK</td>\n      <td>99504</td>\n      <td>9073434223</td>\n    </tr>\n    <tr>\n      <th>3</th>\n      <td>SCOTT AND WESLEY GERRISH LIBRARY</td>\n      <td>250 EGLOFF DRIVE</td>\n      <td>GIRDWOOD</td>\n      <td>AK</td>\n      <td>99587</td>\n      <td>9073434024</td>\n    </tr>\n    <tr>\n      <th>4</th>\n      <td>Z. J. LOUSSAC LIBRARY</td>\n      <td>3600 DENALI STREET</td>\n      <td>ANCHORAGE</td>\n      <td>AK</td>\n      <td>99503</td>\n      <td>9073432892</td>\n    </tr>\n  </tbody>\n</table>\n</div>"
     },
     "metadata": {},
     "execution_count": 24
    }
   ],
   "source": [
    "whole_ilms_df.columns = map(str.lower, whole_ilms_df.columns)\n",
    "\n",
    "whole_ilms_df.head()"
   ]
  },
  {
   "cell_type": "code",
   "execution_count": 25,
   "metadata": {
    "ExecuteTime": {
     "end_time": "2020-12-10T23:19:47.889126Z",
     "start_time": "2020-12-10T23:19:47.869234Z"
    }
   },
   "outputs": [
    {
     "output_type": "execute_result",
     "data": {
      "text/plain": [
       "                               name                       address1  \\\n",
       "0       ANCHOR POINT PUBLIC LIBRARY          34020 NORTH FORK ROAD   \n",
       "1       CHUGIAK-EAGLE RIVER LIBRARY  12001 BUSINESS BOULEVARD #176   \n",
       "2                   MULDOON LIBRARY   1251 MULDOON ROAD, SUITE 158   \n",
       "3  SCOTT AND WESLEY GERRISH LIBRARY               250 EGLOFF DRIVE   \n",
       "4             Z. J. LOUSSAC LIBRARY             3600 DENALI STREET   \n",
       "\n",
       "           city state    zip       phone  \n",
       "0  ANCHOR POINT    AK  99556  9072355692  \n",
       "1   EAGLE RIVER    AK  99577  9073431530  \n",
       "2     ANCHORAGE    AK  99504  9073434223  \n",
       "3      GIRDWOOD    AK  99587  9073434024  \n",
       "4     ANCHORAGE    AK  99503  9073432892  "
      ],
      "text/html": "<div>\n<style scoped>\n    .dataframe tbody tr th:only-of-type {\n        vertical-align: middle;\n    }\n\n    .dataframe tbody tr th {\n        vertical-align: top;\n    }\n\n    .dataframe thead th {\n        text-align: right;\n    }\n</style>\n<table border=\"1\" class=\"dataframe\">\n  <thead>\n    <tr style=\"text-align: right;\">\n      <th></th>\n      <th>name</th>\n      <th>address1</th>\n      <th>city</th>\n      <th>state</th>\n      <th>zip</th>\n      <th>phone</th>\n    </tr>\n  </thead>\n  <tbody>\n    <tr>\n      <th>0</th>\n      <td>ANCHOR POINT PUBLIC LIBRARY</td>\n      <td>34020 NORTH FORK ROAD</td>\n      <td>ANCHOR POINT</td>\n      <td>AK</td>\n      <td>99556</td>\n      <td>9072355692</td>\n    </tr>\n    <tr>\n      <th>1</th>\n      <td>CHUGIAK-EAGLE RIVER LIBRARY</td>\n      <td>12001 BUSINESS BOULEVARD #176</td>\n      <td>EAGLE RIVER</td>\n      <td>AK</td>\n      <td>99577</td>\n      <td>9073431530</td>\n    </tr>\n    <tr>\n      <th>2</th>\n      <td>MULDOON LIBRARY</td>\n      <td>1251 MULDOON ROAD, SUITE 158</td>\n      <td>ANCHORAGE</td>\n      <td>AK</td>\n      <td>99504</td>\n      <td>9073434223</td>\n    </tr>\n    <tr>\n      <th>3</th>\n      <td>SCOTT AND WESLEY GERRISH LIBRARY</td>\n      <td>250 EGLOFF DRIVE</td>\n      <td>GIRDWOOD</td>\n      <td>AK</td>\n      <td>99587</td>\n      <td>9073434024</td>\n    </tr>\n    <tr>\n      <th>4</th>\n      <td>Z. J. LOUSSAC LIBRARY</td>\n      <td>3600 DENALI STREET</td>\n      <td>ANCHORAGE</td>\n      <td>AK</td>\n      <td>99503</td>\n      <td>9073432892</td>\n    </tr>\n  </tbody>\n</table>\n</div>"
     },
     "metadata": {},
     "execution_count": 25
    }
   ],
   "source": [
    "name_changes = {'libname':'name',\n",
    "               'address':'address1',\n",
    "               'stabr':'state'}\n",
    "\n",
    "whole_ilms_df = whole_ilms_df.rename(columns={'libname':'name','address':'address1','stabr':'state'})\n",
    "\n",
    "whole_ilms_df.head()"
   ]
  },
  {
   "cell_type": "code",
   "execution_count": 26,
   "metadata": {
    "ExecuteTime": {
     "end_time": "2020-12-10T23:19:47.904535Z",
     "start_time": "2020-12-10T23:19:47.891041Z"
    }
   },
   "outputs": [
    {
     "output_type": "execute_result",
     "data": {
      "text/plain": [
       "                               name                       address1  \\\n",
       "0       ANCHOR POINT PUBLIC LIBRARY          34020 NORTH FORK ROAD   \n",
       "1       CHUGIAK-EAGLE RIVER LIBRARY  12001 BUSINESS BOULEVARD #176   \n",
       "2                   MULDOON LIBRARY   1251 MULDOON ROAD, SUITE 158   \n",
       "3  SCOTT AND WESLEY GERRISH LIBRARY               250 EGLOFF DRIVE   \n",
       "4             Z. J. LOUSSAC LIBRARY             3600 DENALI STREET   \n",
       "\n",
       "           city state    zip       phone  \\\n",
       "0  ANCHOR POINT    AK  99556  9072355692   \n",
       "1   EAGLE RIVER    AK  99577  9073431530   \n",
       "2     ANCHORAGE    AK  99504  9073434223   \n",
       "3      GIRDWOOD    AK  99587  9073434024   \n",
       "4     ANCHORAGE    AK  99503  9073432892   \n",
       "\n",
       "                                      serviceSummary  \n",
       "0  Computers, Internet, Books, Charging Stations,...  \n",
       "1  Computers, Internet, Books, Charging Stations,...  \n",
       "2  Computers, Internet, Books, Charging Stations,...  \n",
       "3  Computers, Internet, Books, Charging Stations,...  \n",
       "4  Computers, Internet, Books, Charging Stations,...  "
      ],
      "text/html": "<div>\n<style scoped>\n    .dataframe tbody tr th:only-of-type {\n        vertical-align: middle;\n    }\n\n    .dataframe tbody tr th {\n        vertical-align: top;\n    }\n\n    .dataframe thead th {\n        text-align: right;\n    }\n</style>\n<table border=\"1\" class=\"dataframe\">\n  <thead>\n    <tr style=\"text-align: right;\">\n      <th></th>\n      <th>name</th>\n      <th>address1</th>\n      <th>city</th>\n      <th>state</th>\n      <th>zip</th>\n      <th>phone</th>\n      <th>serviceSummary</th>\n    </tr>\n  </thead>\n  <tbody>\n    <tr>\n      <th>0</th>\n      <td>ANCHOR POINT PUBLIC LIBRARY</td>\n      <td>34020 NORTH FORK ROAD</td>\n      <td>ANCHOR POINT</td>\n      <td>AK</td>\n      <td>99556</td>\n      <td>9072355692</td>\n      <td>Computers, Internet, Books, Charging Stations,...</td>\n    </tr>\n    <tr>\n      <th>1</th>\n      <td>CHUGIAK-EAGLE RIVER LIBRARY</td>\n      <td>12001 BUSINESS BOULEVARD #176</td>\n      <td>EAGLE RIVER</td>\n      <td>AK</td>\n      <td>99577</td>\n      <td>9073431530</td>\n      <td>Computers, Internet, Books, Charging Stations,...</td>\n    </tr>\n    <tr>\n      <th>2</th>\n      <td>MULDOON LIBRARY</td>\n      <td>1251 MULDOON ROAD, SUITE 158</td>\n      <td>ANCHORAGE</td>\n      <td>AK</td>\n      <td>99504</td>\n      <td>9073434223</td>\n      <td>Computers, Internet, Books, Charging Stations,...</td>\n    </tr>\n    <tr>\n      <th>3</th>\n      <td>SCOTT AND WESLEY GERRISH LIBRARY</td>\n      <td>250 EGLOFF DRIVE</td>\n      <td>GIRDWOOD</td>\n      <td>AK</td>\n      <td>99587</td>\n      <td>9073434024</td>\n      <td>Computers, Internet, Books, Charging Stations,...</td>\n    </tr>\n    <tr>\n      <th>4</th>\n      <td>Z. J. LOUSSAC LIBRARY</td>\n      <td>3600 DENALI STREET</td>\n      <td>ANCHORAGE</td>\n      <td>AK</td>\n      <td>99503</td>\n      <td>9073432892</td>\n      <td>Computers, Internet, Books, Charging Stations,...</td>\n    </tr>\n  </tbody>\n</table>\n</div>"
     },
     "metadata": {},
     "execution_count": 26
    }
   ],
   "source": [
    "whole_ilms_df['serviceSummary'] = 'Computers, Internet, Books, Charging Stations, Restrooms'\n",
    "\n",
    "whole_ilms_df.head()"
   ]
  },
  {
   "cell_type": "code",
   "execution_count": 27,
   "metadata": {
    "ExecuteTime": {
     "end_time": "2020-12-10T23:19:47.945597Z",
     "start_time": "2020-12-10T23:19:47.906640Z"
    }
   },
   "outputs": [],
   "source": [
    "dfduplicates = whole_ilms_df[whole_ilms_df.duplicated()]"
   ]
  },
  {
   "cell_type": "code",
   "execution_count": 28,
   "metadata": {
    "ExecuteTime": {
     "end_time": "2020-12-10T23:19:47.971001Z",
     "start_time": "2020-12-10T23:19:47.948919Z"
    }
   },
   "outputs": [
    {
     "output_type": "execute_result",
     "data": {
      "text/plain": [
       "                                           name                     address1  \\\n",
       "3122               TAYLOR COUNTY PUBLIC LIBRARY  403 NORTH WASHINGTON STREET   \n",
       "4622                           WEST TOWN BRANCH     1625 WEST CHICAGO AVENUE   \n",
       "6070                ADAIR COUNTY PUBLIC LIBRARY        307 GREENSBURG STREET   \n",
       "6072                ALLEN COUNTY PUBLIC LIBRARY       106 WEST PUBLIC SQUARE   \n",
       "6075   MARY WOOD WELDON MEMORIAL PUBLIC LIBRARY      1530 SOUTH GREEN STREET   \n",
       "...                                         ...                          ...   \n",
       "17473           TEN SLEEP BRANCH/SCHOOL LIBRARY               200 N. FIR ST.   \n",
       "17474              WESTON COUNTY LIBRARY SYSTEM              23 WEST MAIN ST   \n",
       "17475                      UPTON BRANCH LIBRARY                   722 4TH ST   \n",
       "17476                  HANKINSON PUBLIC LIBRARY            319 MAIN AVENUE S   \n",
       "17477           NORTHWOOD SCHOOL & CITY LIBRARY              420 TROJAN ROAD   \n",
       "\n",
       "              city state    zip       phone  \\\n",
       "3122         PERRY    FL  32347  8508383512   \n",
       "4622       CHICAGO    IL  60622  3127430450   \n",
       "6070      COLUMBIA    KY  42728  2703842472   \n",
       "6072   SCOTTSVILLE    KY  42164  2702373861   \n",
       "6075       GLASGOW    KY  42141  2706512824   \n",
       "...            ...   ...    ...         ...   \n",
       "17473    TEN SLEEP    WY  82442  3073662348   \n",
       "17474    NEWCASTLE    WY  82701  3077462206   \n",
       "17475        UPTON    WY  82730  3074682324   \n",
       "17476    HANKINSON    ND  58041          -3   \n",
       "17477    NORTHWOOD    ND  58267          -3   \n",
       "\n",
       "                                          serviceSummary  \n",
       "3122   Computers, Internet, Books, Charging Stations,...  \n",
       "4622   Computers, Internet, Books, Charging Stations,...  \n",
       "6070   Computers, Internet, Books, Charging Stations,...  \n",
       "6072   Computers, Internet, Books, Charging Stations,...  \n",
       "6075   Computers, Internet, Books, Charging Stations,...  \n",
       "...                                                  ...  \n",
       "17473  Computers, Internet, Books, Charging Stations,...  \n",
       "17474  Computers, Internet, Books, Charging Stations,...  \n",
       "17475  Computers, Internet, Books, Charging Stations,...  \n",
       "17476  Computers, Internet, Books, Charging Stations,...  \n",
       "17477  Computers, Internet, Books, Charging Stations,...  \n",
       "\n",
       "[17579 rows x 7 columns]"
      ],
      "text/html": "<div>\n<style scoped>\n    .dataframe tbody tr th:only-of-type {\n        vertical-align: middle;\n    }\n\n    .dataframe tbody tr th {\n        vertical-align: top;\n    }\n\n    .dataframe thead th {\n        text-align: right;\n    }\n</style>\n<table border=\"1\" class=\"dataframe\">\n  <thead>\n    <tr style=\"text-align: right;\">\n      <th></th>\n      <th>name</th>\n      <th>address1</th>\n      <th>city</th>\n      <th>state</th>\n      <th>zip</th>\n      <th>phone</th>\n      <th>serviceSummary</th>\n    </tr>\n  </thead>\n  <tbody>\n    <tr>\n      <th>3122</th>\n      <td>TAYLOR COUNTY PUBLIC LIBRARY</td>\n      <td>403 NORTH WASHINGTON STREET</td>\n      <td>PERRY</td>\n      <td>FL</td>\n      <td>32347</td>\n      <td>8508383512</td>\n      <td>Computers, Internet, Books, Charging Stations,...</td>\n    </tr>\n    <tr>\n      <th>4622</th>\n      <td>WEST TOWN BRANCH</td>\n      <td>1625 WEST CHICAGO AVENUE</td>\n      <td>CHICAGO</td>\n      <td>IL</td>\n      <td>60622</td>\n      <td>3127430450</td>\n      <td>Computers, Internet, Books, Charging Stations,...</td>\n    </tr>\n    <tr>\n      <th>6070</th>\n      <td>ADAIR COUNTY PUBLIC LIBRARY</td>\n      <td>307 GREENSBURG STREET</td>\n      <td>COLUMBIA</td>\n      <td>KY</td>\n      <td>42728</td>\n      <td>2703842472</td>\n      <td>Computers, Internet, Books, Charging Stations,...</td>\n    </tr>\n    <tr>\n      <th>6072</th>\n      <td>ALLEN COUNTY PUBLIC LIBRARY</td>\n      <td>106 WEST PUBLIC SQUARE</td>\n      <td>SCOTTSVILLE</td>\n      <td>KY</td>\n      <td>42164</td>\n      <td>2702373861</td>\n      <td>Computers, Internet, Books, Charging Stations,...</td>\n    </tr>\n    <tr>\n      <th>6075</th>\n      <td>MARY WOOD WELDON MEMORIAL PUBLIC LIBRARY</td>\n      <td>1530 SOUTH GREEN STREET</td>\n      <td>GLASGOW</td>\n      <td>KY</td>\n      <td>42141</td>\n      <td>2706512824</td>\n      <td>Computers, Internet, Books, Charging Stations,...</td>\n    </tr>\n    <tr>\n      <th>...</th>\n      <td>...</td>\n      <td>...</td>\n      <td>...</td>\n      <td>...</td>\n      <td>...</td>\n      <td>...</td>\n      <td>...</td>\n    </tr>\n    <tr>\n      <th>17473</th>\n      <td>TEN SLEEP BRANCH/SCHOOL LIBRARY</td>\n      <td>200 N. FIR ST.</td>\n      <td>TEN SLEEP</td>\n      <td>WY</td>\n      <td>82442</td>\n      <td>3073662348</td>\n      <td>Computers, Internet, Books, Charging Stations,...</td>\n    </tr>\n    <tr>\n      <th>17474</th>\n      <td>WESTON COUNTY LIBRARY SYSTEM</td>\n      <td>23 WEST MAIN ST</td>\n      <td>NEWCASTLE</td>\n      <td>WY</td>\n      <td>82701</td>\n      <td>3077462206</td>\n      <td>Computers, Internet, Books, Charging Stations,...</td>\n    </tr>\n    <tr>\n      <th>17475</th>\n      <td>UPTON BRANCH LIBRARY</td>\n      <td>722 4TH ST</td>\n      <td>UPTON</td>\n      <td>WY</td>\n      <td>82730</td>\n      <td>3074682324</td>\n      <td>Computers, Internet, Books, Charging Stations,...</td>\n    </tr>\n    <tr>\n      <th>17476</th>\n      <td>HANKINSON PUBLIC LIBRARY</td>\n      <td>319 MAIN AVENUE S</td>\n      <td>HANKINSON</td>\n      <td>ND</td>\n      <td>58041</td>\n      <td>-3</td>\n      <td>Computers, Internet, Books, Charging Stations,...</td>\n    </tr>\n    <tr>\n      <th>17477</th>\n      <td>NORTHWOOD SCHOOL &amp; CITY LIBRARY</td>\n      <td>420 TROJAN ROAD</td>\n      <td>NORTHWOOD</td>\n      <td>ND</td>\n      <td>58267</td>\n      <td>-3</td>\n      <td>Computers, Internet, Books, Charging Stations,...</td>\n    </tr>\n  </tbody>\n</table>\n<p>17579 rows × 7 columns</p>\n</div>"
     },
     "metadata": {},
     "execution_count": 28
    }
   ],
   "source": [
    "dfduplicates"
   ]
  },
  {
   "cell_type": "code",
   "execution_count": 29,
   "metadata": {
    "ExecuteTime": {
     "end_time": "2020-12-10T23:19:47.992025Z",
     "start_time": "2020-12-10T23:19:47.973059Z"
    }
   },
   "outputs": [
    {
     "output_type": "stream",
     "name": "stdout",
     "text": [
      "<class 'pandas.core.frame.DataFrame'>\nInt64Index: 34956 entries, 0 to 17477\nData columns (total 7 columns):\n #   Column          Non-Null Count  Dtype \n---  ------          --------------  ----- \n 0   name            34956 non-null  object\n 1   address1        34956 non-null  object\n 2   city            34956 non-null  object\n 3   state           34956 non-null  object\n 4   zip             34956 non-null  int64 \n 5   phone           34956 non-null  int64 \n 6   serviceSummary  34956 non-null  object\ndtypes: int64(2), object(5)\nmemory usage: 2.1+ MB\n"
     ]
    }
   ],
   "source": [
    "whole_ilms_df.info()"
   ]
  },
  {
   "cell_type": "code",
   "execution_count": 30,
   "metadata": {
    "ExecuteTime": {
     "end_time": "2020-12-10T23:19:48.029620Z",
     "start_time": "2020-12-10T23:19:47.994768Z"
    }
   },
   "outputs": [],
   "source": [
    "whole_ilms_df = whole_ilms_df.drop_duplicates(keep='first')"
   ]
  },
  {
   "cell_type": "code",
   "execution_count": 31,
   "metadata": {
    "ExecuteTime": {
     "end_time": "2020-12-10T23:19:48.045376Z",
     "start_time": "2020-12-10T23:19:48.031312Z"
    }
   },
   "outputs": [
    {
     "output_type": "stream",
     "name": "stdout",
     "text": [
      "<class 'pandas.core.frame.DataFrame'>\nInt64Index: 17377 entries, 0 to 17477\nData columns (total 7 columns):\n #   Column          Non-Null Count  Dtype \n---  ------          --------------  ----- \n 0   name            17377 non-null  object\n 1   address1        17377 non-null  object\n 2   city            17377 non-null  object\n 3   state           17377 non-null  object\n 4   zip             17377 non-null  int64 \n 5   phone           17377 non-null  int64 \n 6   serviceSummary  17377 non-null  object\ndtypes: int64(2), object(5)\nmemory usage: 1.1+ MB\n"
     ]
    }
   ],
   "source": [
    "whole_ilms_df.info()"
   ]
  },
  {
   "cell_type": "code",
   "execution_count": 32,
   "metadata": {
    "ExecuteTime": {
     "end_time": "2020-12-10T23:19:48.241391Z",
     "start_time": "2020-12-10T23:19:48.048154Z"
    }
   },
   "outputs": [],
   "source": [
    "dfduplicates.to_csv('data/tmpIMLSFoundDuplicates.csv')\n",
    "\n",
    "whole_ilms_df.to_csv('data/tmpIMLS.csv')"
   ]
  },
  {
   "cell_type": "code",
   "execution_count": 33,
   "metadata": {
    "ExecuteTime": {
     "end_time": "2020-12-10T23:21:22.279715Z",
     "start_time": "2020-12-10T23:21:21.926680Z"
    }
   },
   "outputs": [],
   "source": [
    "import json\n",
    "from pymongo import MongoClient\n",
    "\n",
    "service_default_values= {\n",
    "  \"name\": '',\n",
    "  \"description\": '',\n",
    "  \"address1\": '',\n",
    "  \"address2\": '',\n",
    "  \"city\": '',\n",
    "  \"state\": '',\n",
    "  \"zip\": '',\n",
    "  \"phone\": '',\n",
    "  \"contactEmail\": '',\n",
    "  \"schedules\": [],\n",
    "  \"closeSchedules\": [],\n",
    "  \"website\": '',\n",
    "  \"facebook\": '',\n",
    "  \"twitter\": '',\n",
    "  \"instagram\": '',\n",
    "  \"youtube\": '',\n",
    "  \"serviceSummary\": '',\n",
    "  \"age\": '',\n",
    "  \"isContact\": False\n",
    "}"
   ]
  },
  {
   "cell_type": "code",
   "execution_count": 34,
   "metadata": {
    "ExecuteTime": {
     "end_time": "2020-12-10T23:21:22.857491Z",
     "start_time": "2020-12-10T23:21:22.855011Z"
    }
   },
   "outputs": [],
   "source": [
    "userId = os.environ.get('DBUSERNAME')\n",
    "password = os.environ.get('PW')\n",
    "originDb = \"service\"\n",
    "serviceDb = \"tmpILMS\"\n",
    "schemaFile = \"tmpILMS_schema.json\""
   ]
  },
  {
   "cell_type": "code",
   "execution_count": null,
   "metadata": {},
   "outputs": [],
   "source": []
  },
  {
   "cell_type": "code",
   "execution_count": null,
   "metadata": {},
   "outputs": [],
   "source": []
  },
  {
   "cell_type": "code",
   "execution_count": 35,
   "metadata": {
    "ExecuteTime": {
     "end_time": "2020-12-10T23:29:49.321905Z",
     "start_time": "2020-12-10T23:29:49.309929Z"
    }
   },
   "outputs": [
    {
     "output_type": "error",
     "ename": "TypeError",
     "evalue": "can only concatenate str (not \"NoneType\") to str",
     "traceback": [
      "\u001b[1;31m---------------------------------------------------------------------------\u001b[0m",
      "\u001b[1;31mTypeError\u001b[0m                                 Traceback (most recent call last)",
      "\u001b[1;32m<ipython-input-35-2995ae0199db>\u001b[0m in \u001b[0;36m<module>\u001b[1;34m\u001b[0m\n\u001b[0;32m      1\u001b[0m client = MongoClient(\n\u001b[1;32m----> 2\u001b[1;33m     \u001b[1;34m\"mongodb+srv://\"\u001b[0m \u001b[1;33m+\u001b[0m \u001b[0mos\u001b[0m\u001b[1;33m.\u001b[0m\u001b[0menviron\u001b[0m\u001b[1;33m.\u001b[0m\u001b[0mget\u001b[0m\u001b[1;33m(\u001b[0m\u001b[1;34m'DBUSERNAME'\u001b[0m\u001b[1;33m)\u001b[0m \u001b[1;33m+\u001b[0m \u001b[1;34m\":\"\u001b[0m \u001b[1;33m+\u001b[0m \u001b[0mos\u001b[0m\u001b[1;33m.\u001b[0m\u001b[0menviron\u001b[0m\u001b[1;33m.\u001b[0m\u001b[0mget\u001b[0m\u001b[1;33m(\u001b[0m\u001b[1;34m'PW'\u001b[0m\u001b[1;33m)\u001b[0m\u001b[1;33m\u001b[0m\u001b[1;33m\u001b[0m\u001b[0m\n\u001b[0m\u001b[0;32m      3\u001b[0m     \u001b[1;33m+\u001b[0m \u001b[1;34m\"@shelter-rm3lc.azure.mongodb.net/shelter?retryWrites=true&w=majority\"\u001b[0m\u001b[1;33m\u001b[0m\u001b[1;33m\u001b[0m\u001b[0m\n\u001b[0;32m      4\u001b[0m )['shelter']\n\u001b[0;32m      5\u001b[0m \u001b[0morigin_db\u001b[0m \u001b[1;33m=\u001b[0m \u001b[0mdb\u001b[0m\u001b[1;33m[\u001b[0m\u001b[0moriginDb\u001b[0m\u001b[1;33m]\u001b[0m  \u001b[1;31m# db with the documents to import\u001b[0m\u001b[1;33m\u001b[0m\u001b[1;33m\u001b[0m\u001b[0m\n",
      "\u001b[1;31mTypeError\u001b[0m: can only concatenate str (not \"NoneType\") to str"
     ]
    }
   ],
   "source": [
    "client = MongoClient(\n",
    "    \"mongodb+srv://\" + os.environ.get('DBUSERNAME') + \":\" + os.environ.get('PW')\n",
    "    + \"@shelter-rm3lc.azure.mongodb.net/shelter?retryWrites=true&w=majority\"\n",
    ")['shelter']\n",
    "origin_db = db[originDb]  # db with the documents to import\n",
    "service = db[serviceDb]  # db to add the new services"
   ]
  },
  {
   "cell_type": "code",
   "execution_count": null,
   "metadata": {},
   "outputs": [],
   "source": []
  }
 ],
 "metadata": {
  "hide_input": false,
  "kernelspec": {
   "name": "python3",
   "display_name": "Python 3.8.2 64-bit",
   "metadata": {
    "interpreter": {
     "hash": "2db524e06e9f5f4ffedc911c917cb75e12dbc923643829bf417064a77eb14d37"
    }
   }
  },
  "language_info": {
   "codemirror_mode": {
    "name": "ipython",
    "version": 3
   },
   "file_extension": ".py",
   "mimetype": "text/x-python",
   "name": "python",
   "nbconvert_exporter": "python",
   "pygments_lexer": "ipython3",
   "version": "3.8.2-final"
  },
  "toc": {
   "base_numbering": 1,
   "nav_menu": {},
   "number_sections": true,
   "sideBar": true,
   "skip_h1_title": false,
   "title_cell": "Table of Contents",
   "title_sidebar": "Contents",
   "toc_cell": false,
   "toc_position": {},
   "toc_section_display": true,
   "toc_window_display": false
  }
 },
 "nbformat": 4,
 "nbformat_minor": 4
}